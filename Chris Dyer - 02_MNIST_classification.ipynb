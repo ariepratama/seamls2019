{
 "cells": [
  {
   "cell_type": "code",
   "execution_count": 28,
   "metadata": {},
   "outputs": [],
   "source": [
    "import numpy as np\n",
    "import torch\n",
    "import torchvision\n",
    "import matplotlib.pyplot as plt\n",
    "from torchvision import datasets, transforms\n",
    "import torch.nn.functional as F"
   ]
  },
  {
   "cell_type": "code",
   "execution_count": 2,
   "metadata": {},
   "outputs": [],
   "source": [
    "transform = transforms.Compose([\n",
    "    transforms.ToTensor(),\n",
    "    transforms.Normalize((0.5,), (0.5,)),\n",
    "])"
   ]
  },
  {
   "cell_type": "code",
   "execution_count": 3,
   "metadata": {},
   "outputs": [
    {
     "name": "stdout",
     "output_type": "stream",
     "text": [
      "Downloading http://yann.lecun.com/exdb/mnist/train-images-idx3-ubyte.gz\n",
      "Downloading http://yann.lecun.com/exdb/mnist/train-labels-idx1-ubyte.gz\n",
      "Downloading http://yann.lecun.com/exdb/mnist/t10k-images-idx3-ubyte.gz\n",
      "Downloading http://yann.lecun.com/exdb/mnist/t10k-labels-idx1-ubyte.gz\n",
      "Processing...\n",
      "Done!\n"
     ]
    }
   ],
   "source": [
    "dataset = datasets.MNIST(\n",
    "    '/tmp/mnist', \n",
    "    download=True, \n",
    "    train=True,\n",
    "    transform=transform\n",
    ")\n",
    "\n",
    "test_dataset = datasets.MNIST(\n",
    "    '/tmp/mnist', \n",
    "    download=True, \n",
    "    train=False,\n",
    "    transform=transform\n",
    ")\n",
    "\n",
    "batched_dataset = torch.utils.data.DataLoader(\n",
    "    dataset,\n",
    "    batch_size=32\n",
    ")\n",
    "\n",
    "batched_test_dataset = torch.utils.data.DataLoader(\n",
    "    test_dataset,\n",
    "    batch_size=32\n",
    ")"
   ]
  },
  {
   "cell_type": "code",
   "execution_count": 4,
   "metadata": {},
   "outputs": [],
   "source": [
    "dataiter = iter(batched_dataset)\n",
    "images, labels = dataiter.next()"
   ]
  },
  {
   "cell_type": "code",
   "execution_count": 5,
   "metadata": {},
   "outputs": [
    {
     "data": {
      "image/png": "[encoded data removed]",
      "text/plain": [
       "<Figure size 144x144 with 1 Axes>"
      ]
     },
     "metadata": {
      "needs_background": "light"
     },
     "output_type": "display_data"
    }
   ],
   "source": [
    "plt.figure(figsize=(2,2))\n",
    "plt.imshow(images[0].numpy().squeeze(), cmap='gray')\n",
    "plt.show()"
   ]
  },
  {
   "cell_type": "code",
   "execution_count": 23,
   "metadata": {},
   "outputs": [],
   "source": [
    "class MLPModel(torch.nn.Module):\n",
    "    def __init__(self, inputs=28*28, outputs=10, hiddens=1024, activation=torch.relu):\n",
    "        super(MLPModel, self).__init__()\n",
    "        self.activation = activation\n",
    "        self.fc1 = torch.nn.Linear(inputs, hiddens)\n",
    "        self.fc2 = torch.nn.Linear(hiddens, outputs)\n",
    "        \n",
    "        \n",
    "    def forward(self, x):\n",
    "        x = x.view(-1, 28 * 28)\n",
    "        h = self.fc1(x)\n",
    "        h = self.activation(h)\n",
    "        logits = self.fc2(h)\n",
    "        return logits"
   ]
  },
  {
   "cell_type": "code",
   "execution_count": 58,
   "metadata": {},
   "outputs": [],
   "source": [
    "m = MLPModel()\n",
    "optimizer = torch.optim.SGD(m.parameters(), lr=1e-3)\n",
    "loss = torch.nn.Softmax\n",
    "\n",
    "NUM_BATCHES = 5000\n",
    "REPORT_EVERY_I = 250\n",
    "TEST_EVERY_I = 500\n",
    "updates = 0\n",
    "eloss = None\n",
    "EMA_ALPHA = 0.1\n",
    "losses = []\n"
   ]
  },
  {
   "cell_type": "code",
   "execution_count": 59,
   "metadata": {},
   "outputs": [],
   "source": [
    "losses = list()\n",
    "for images, labels in batched_dataset:\n",
    "    optimizer.zero_grad()\n",
    "    \n",
    "\n",
    "    logits = m(images)\n",
    "\n",
    "    loss = F.cross_entropy(logits, labels)\n",
    "    losses.append(loss.detach().numpy())\n",
    "    if eloss is None:\n",
    "        eloss = loss.detach().numpy()\n",
    "    else:\n",
    "        eloss = eloss * (1 - EMA_ALPHA) + loss.detach().numpy() * EMA_ALPHA\n",
    "    \n",
    "    losses.append(eloss)\n",
    "    \n",
    "    loss.backward()\n",
    "    optimizer.step()\n",
    "    "
   ]
  },
  {
   "cell_type": "code",
   "execution_count": 62,
   "metadata": {},
   "outputs": [
    {
     "data": {
      "image/png": "[encoded data removed]",
      "text/plain": [
       "<Figure size 432x288 with 1 Axes>"
      ]
     },
     "metadata": {
      "needs_background": "light"
     },
     "output_type": "display_data"
    }
   ],
   "source": [
    "plt.title('Loss Over Number of Trains')\n",
    "plt.plot(losses)\n",
    "plt.show()"
   ]
  }
 ],
 "metadata": {
  "kernelspec": {
   "display_name": "Python 3",
   "language": "python",
   "name": "python3"
  },
  "language_info": {
   "codemirror_mode": {
    "name": "ipython",
    "version": 3
   },
   "file_extension": ".py",
   "mimetype": "text/x-python",
   "name": "python",
   "nbconvert_exporter": "python",
   "pygments_lexer": "ipython3",
   "version": "3.5.4"
  }
 },
 "nbformat": 4,
 "nbformat_minor": 2
}
