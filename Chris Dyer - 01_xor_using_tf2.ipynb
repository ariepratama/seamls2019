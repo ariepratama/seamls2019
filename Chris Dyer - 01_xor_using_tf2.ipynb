{
 "cells": [
  {
   "cell_type": "markdown",
   "metadata": {},
   "source": [
    "This notebook is a port from tensorflow to pytorch for Chris Dyer's repository on SEAMLS2019 [here](https://github.com/redpony/seaml_intro_nns/blob/master/01_xor_using_tf2.ipynb). Might also benefit those who wanted to learn deep learning with pytorch instead of tensorflow or maybe participants who had hard time to follow on tensorflow."
   ]
  },
  {
   "cell_type": "code",
   "execution_count": 53,
   "metadata": {},
   "outputs": [],
   "source": [
    "import numpy as np\n",
    "import torch\n",
    "from torch.autograd import Variable\n",
    "import matplotlib.pyplot as plt"
   ]
  },
  {
   "cell_type": "markdown",
   "metadata": {},
   "source": [
    "# Some XOR Data"
   ]
  },
  {
   "cell_type": "code",
   "execution_count": 71,
   "metadata": {},
   "outputs": [],
   "source": [
    "X = torch.from_numpy(\n",
    "    np.array([[-1., -1.],\n",
    "              [-1., 1.],\n",
    "              [1., -1.],\n",
    "              [1., 1.]])\n",
    "    )\n",
    "\n",
    "y =torch.from_numpy(\n",
    "    np.array([[-1.],\n",
    "              [1.],\n",
    "              [1.],\n",
    "              [-1.]])\n",
    "    )\n",
    "ETA = 0.15  # learning rate for SGD\n",
    "EPOCHS = 35"
   ]
  },
  {
   "cell_type": "markdown",
   "metadata": {},
   "source": [
    "# MLP Code\n",
    "\n",
    "1. Specify W, a, V variables and tell pytorch that it needs to be computed for gradient using `requires_grad=True`.\n",
    "2. You can tell pytorch to compute gradient by specifying `loss.backward()` then get the gradients on variable\n",
    "3. Reset gradient data by using `.zero_()` "
   ]
  },
  {
   "cell_type": "code",
   "execution_count": 72,
   "metadata": {},
   "outputs": [],
   "source": [
    "HIDDEN = 32\n",
    "W = Variable(\n",
    "    torch.from_numpy(\n",
    "        np.random.normal(size=(2, HIDDEN)) / np.sqrt(HIDDEN)\n",
    "    ),\n",
    "    requires_grad=True\n",
    ")\n",
    "\n",
    "\n",
    "a = Variable(\n",
    "    torch.from_numpy(\n",
    "        np.zeros(shape=(HIDDEN, ))\n",
    "    ),\n",
    "    requires_grad=True\n",
    ")\n",
    "\n",
    "\n",
    "V = Variable(\n",
    "    torch.from_numpy(\n",
    "        np.random.normal(size=(HIDDEN, 1)) / np.sqrt(HIDDEN)\n",
    "    ),\n",
    "    requires_grad=True\n",
    ")\n",
    "\n",
    "mlp_losses = []\n",
    "             "
   ]
  },
  {
   "cell_type": "code",
   "execution_count": 73,
   "metadata": {},
   "outputs": [],
   "source": [
    "for _ in range(EPOCHS):\n",
    "    # @ operator is matrix multiplication operator\n",
    "    # in numpy, tensorflow, and pytorch\n",
    "    p = X @ W + a\n",
    "    h = torch.relu(p)\n",
    "    y_pred = h @ V\n",
    "    loss = 0.5 * (y_pred - y).pow(2).sum()\n",
    "    \n",
    "    # collect losses\n",
    "    mlp_losses.append(loss)\n",
    "    \n",
    "    loss.backward()\n",
    "    \n",
    "    # IMO these are simpler than tensorflow\n",
    "    # since these extracting variables with their gradients\n",
    "    # uses python operator instead of function in tensorflow\n",
    "    W.data -= ETA * W.grad.data\n",
    "    a.data -= ETA * a.grad.data\n",
    "    V.data -= ETA * V.grad.data\n",
    "    \n",
    "    W.grad.data.zero_()\n",
    "    a.grad.data.zero_()\n",
    "    V.grad.data.zero_()"
   ]
  },
  {
   "cell_type": "code",
   "execution_count": 76,
   "metadata": {},
   "outputs": [
    {
     "name": "stdout",
     "output_type": "stream",
     "text": [
      "predictions after training:\n",
      "[[-1.        ]\n",
      " [ 1.        ]\n",
      " [ 1.        ]\n",
      " [-0.99999999]]\n"
     ]
    },
    {
     "data": {
      "image/png": "[encoded data removed]",
      "text/plain": [
       "<Figure size 432x288 with 1 Axes>"
      ]
     },
     "metadata": {
      "needs_background": "light"
     },
     "output_type": "display_data"
    }
   ],
   "source": [
    "print('predictions after training:\\n{}'.format(y_pred.detach().numpy()))\n",
    "plt.plot(mlp_losses)\n",
    "plt.show()"
   ]
  }
 ],
 "metadata": {
  "kernelspec": {
   "display_name": "Python 3",
   "language": "python",
   "name": "python3"
  },
  "language_info": {
   "codemirror_mode": {
    "name": "ipython",
    "version": 3
   },
   "file_extension": ".py",
   "mimetype": "text/x-python",
   "name": "python",
   "nbconvert_exporter": "python",
   "pygments_lexer": "ipython3",
   "version": "3.5.4"
  }
 },
 "nbformat": 4,
 "nbformat_minor": 2
}
